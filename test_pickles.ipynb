{
 "cells": [
  {
   "cell_type": "code",
   "execution_count": 17,
   "metadata": {},
   "outputs": [
    {
     "name": "stdout",
     "output_type": "stream",
     "text": [
      "dict_keys(['our_rmat', 'gt_rmat', 'batch_ind', 'overlap_amount_array'])\n"
     ]
    }
   ],
   "source": [
    "import numpy as np\n",
    "import pickle\n",
    "\n",
    "path_sift_unified = 'mid_run/SIFT/outputs/debug_outrot_unified.pkl'\n",
    "path_sift_cambridge = 'mid_run/SIFT/outputs/debug_outrot_cambridge_final.pkl'\n",
    "\n",
    "path_loftr_unified = 'mid_run/LoFTR/outputs/debug_outrot_loftr_unified.pkl'\n",
    "path_loftr_cambridge = 'mid_run/LoFTR/outputs/debug_outrot_loftr_unified.pkl'\n",
    "\n",
    "path_extreme_unified = 'mid_run/extreme_rotation/outputs/debug_outrot_Extreme_Rotation_unified.pkl'\n",
    "path_extreme_cambridge = 'mid_run/extreme_rotation/outputs/debug_outrot_Extreme_Rotation_cambridge_final.pkl'\n",
    "\n",
    "path_8pointvit_cambridge = 'mid_run/extreme_rotation/outputs/debug_outrot_8PointVIT_cambridge.pkl'\n",
    "\n",
    "# load file\n",
    "with open(path_8pointvit_cambridge,'rb') as file:\n",
    "    data = pickle.load(file)\n",
    "print(data.keys())"
   ]
  },
  {
   "cell_type": "markdown",
   "metadata": {},
   "source": [
    "# Pairs_path\n",
    "It is a list of tuples. The list is of the length of the dataset. Each tuple is (scene, path, path2)"
   ]
  },
  {
   "cell_type": "code",
   "execution_count": null,
   "metadata": {},
   "outputs": [],
   "source": [
    "print(f\"for the pair: \\nscene = {data['pairs_path'][0][0]}  \\npath1 = {data['pairs_path'][0][1]}, \\npath2 = {data['pairs_path'][0][1]}\\nThe rotaion matrix is {data[\"our_rmat\"][0]}\")"
   ]
  }
 ],
 "metadata": {
  "kernelspec": {
   "display_name": "rota12",
   "language": "python",
   "name": "python3"
  },
  "language_info": {
   "codemirror_mode": {
    "name": "ipython",
    "version": 3
   },
   "file_extension": ".py",
   "mimetype": "text/x-python",
   "name": "python",
   "nbconvert_exporter": "python",
   "pygments_lexer": "ipython3",
   "version": "3.12.2"
  }
 },
 "nbformat": 4,
 "nbformat_minor": 2
}
